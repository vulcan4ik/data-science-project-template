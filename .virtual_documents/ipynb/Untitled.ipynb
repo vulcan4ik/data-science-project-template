














import pandas as pd


file_id = "1qx1JeoqDHlnlFukq2qr2YZ8eE_4l2vX8"
test_id = "1HOwmpuHvJrEt9yAms6k1SnEgFEJ0pZ6Z"
train_url = f"https://drive.google.com/uc?id={file_id}&export=download"
test_url = f"https://drive.google.com/uc?id={test_id}&export=download"
train = pd.read_csv(train_url)
display(train.head(5))
print(train.info())


test = pd.read_csv(test_url)


test.head(5)


test.info()



